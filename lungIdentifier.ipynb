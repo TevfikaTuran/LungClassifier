{
 "cells": [
  {
   "cell_type": "code",
   "execution_count": 1,
   "metadata": {},
   "outputs": [],
   "source": [
    "#Kütüphanelerin Yüklenmesi\n",
    "import pandas as pd\n",
    "import numpy as np\n",
    "import os\n",
    "import cv2\n",
    "\n",
    "from metods import *\n",
    "from tensorflow.keras.models import load_model\n",
    "from tensorflow.keras import models, layers\n",
    "from tensorflow.keras.callbacks import EarlyStopping, ModelCheckpoint, ReduceLROnPlateau\n",
    "from tensorflow.keras.utils import to_categorical\n",
    "\n",
    "import matplotlib.pyplot as plt\n",
    "\n",
    "from sklearn.model_selection import train_test_split\n",
    "\n",
    "import warnings\n",
    "warnings.filterwarnings('ignore')\n",
    "\n",
    "import tensorflow as tf\n",
    "physical_devices = tf.config.list_physical_devices('GPU') \n",
    "tf.config.experimental.set_memory_growth(physical_devices[0], True)"
   ]
  },
  {
   "cell_type": "code",
   "execution_count": 2,
   "metadata": {},
   "outputs": [],
   "source": [
    "#Genel Değişkenlerin Belirlenmesi\n",
    "IMG_HEIGHT = 128\n",
    "IMG_WIDTH = 128\n",
    "IMG_CHANNELS = 1\n",
    "\n",
    "models_folder = \"models\\\\\" #model klasörü oluşturuluyor\n",
    "\n",
    "modelName = models_folder + \"LungIdentifierModelVGG16Testing2.h5\" #Model ismi\n",
    "\n",
    "#Dosya yolları\n",
    "healty_path = \"C:\\\\Users\\\\ugur_\\\\Python Projects\\\\LungClassifier\\\\NIH Data\\\\Healty\\\\\"\n",
    "healty_mask_path = \"C:\\\\Users\\\\ugur_\\\\Python Projects\\\\LungClassifier\\\\NIH Data\\\\Healty Mask\\\\\"\n",
    "healty_segmented_path = \"C:\\\\Users\\\\ugur_\\\\Python Projects\\\\LungClassifier\\\\NIH Data\\\\Healty Segmented\\\\\"\n",
    "\n",
    "pneu_path = \"C:\\\\Users\\\\ugur_\\\\Python Projects\\\\LungClassifier\\\\NIH Data\\\\Pneumothorax\\\\\"\n",
    "pneu_mask_path = \"C:\\\\Users\\\\ugur_\\\\Python Projects\\\\LungClassifier\\\\NIH Data\\\\Pneumothorax Mask\\\\\"\n",
    "pneu_segmented_path = \"C:\\\\Users\\\\ugur_\\\\Python Projects\\\\LungClassifier\\\\NIH Data\\\\Pneumothorax Segmented\\\\\""
   ]
  },
  {
   "cell_type": "code",
   "execution_count": 3,
   "metadata": {},
   "outputs": [
    {
     "name": "stdout",
     "output_type": "stream",
     "text": [
      "(40768, 128, 128, 3)\n",
      "(40768, 2)\n"
     ]
    }
   ],
   "source": [
    "#Veri seti yüklenme aşaması\n",
    "\n",
    "#Eğitim verisi için dosya isimlerini klasörlerden listeye aktarıyoruz.\n",
    "healty_segmented_images = os.listdir(healty_segmented_path)\n",
    "pneu_segmented_images = os.listdir(pneu_segmented_path)\n",
    "\n",
    "#Veriyi daha hızlı yazabilmek için ön tanımlı X ve Y değişkenlerimizi oluşturuyoruz.\n",
    "X_train = np.zeros((len(healty_segmented_images) + len(pneu_segmented_images), IMG_HEIGHT, IMG_WIDTH), dtype=np.uint8)\n",
    "Y_train = np.zeros((len(healty_segmented_images) + len(pneu_segmented_images)), dtype=np.bool)\n",
    "\n",
    "\n",
    "#Sağlıklı akciğer segmentlerini yüklüyoruz.\n",
    "for i, img_id in enumerate(healty_segmented_images):\n",
    "    file_name = healty_segmented_path + img_id\n",
    "\n",
    "    img = readImages(file_name, is_gray=0)\n",
    "    \n",
    "    X_train[i] = img\n",
    "    Y_train[i] = 0\n",
    "\n",
    "#Sağlıklı veri miktarımız az olduğu için aynalama taktiği ile sağlıklı verilerimizi iki katına çıkarıyoruz.\n",
    "X_train2 = np.flip(X_train, axis=2)\n",
    "X_train = np.append(X_train, X_train2, axis=0)\n",
    "Y_train = np.append(Y_train, Y_train, axis=0)\n",
    "\n",
    "#Pnömotoraks akciğer segmentlerini yüklüyoruz.\n",
    "for i, img_id in enumerate(pneu_segmented_images):\n",
    "    file_name = pneu_segmented_path + img_id\n",
    "    \n",
    "    img = readImages(file_name, is_gray=0)\n",
    "    \n",
    "    X_train[len(healty_segmented_images) + i] = img\n",
    "    Y_train[len(healty_segmented_images) + i] = 1\n",
    "\n",
    "#X_train verimizi VGG16 modelimiz için uygun hale getiriyoruz. (3 Kanallı ve 4 boyutlu hale getiriyoruz)\n",
    "X_train = np.repeat(X_train[..., np.newaxis], 3, -1)\n",
    "X_train = X_train.reshape(-1, 128, 128, 3)\n",
    "\n",
    "#Kategorik eğitim yapacağımız için Y verilerimizi kategorik veriye çeviriyoruz.\n",
    "Y_train = to_categorical(Y_train)\n",
    "\n",
    "#Veri yükleme işleminden sonra işe yaramayan ve bellekte boş veri kaplamamasını istediğimiz değişkenleri hafızadan siliyoruz.\n",
    "X_train2 = None\n",
    "healty_segmented_images = None\n",
    "pneu_segmented_images = None\n",
    "\n",
    "print(X_train.shape)\n",
    "print(Y_train.shape)"
   ]
  },
  {
   "cell_type": "code",
   "execution_count": 4,
   "metadata": {},
   "outputs": [
    {
     "name": "stdout",
     "output_type": "stream",
     "text": [
      "Train Data:  (32614, 128, 128, 3)\n",
      "Test Data:  (8154, 128, 128, 3)\n"
     ]
    }
   ],
   "source": [
    "#Verimizi eğitim ve test olmak üzere 2 parçaya bölüyoruz.\n",
    "X_train, X_test, Y_train, Y_test = train_test_split(X_train, Y_train, test_size=0.2, random_state=8)\n",
    "\n",
    "print(\"Train Data: \", X_train.shape)\n",
    "print(\"Test Data: \", X_test.shape)"
   ]
  },
  {
   "cell_type": "code",
   "execution_count": 5,
   "metadata": {},
   "outputs": [
    {
     "name": "stdout",
     "output_type": "stream",
     "text": [
      "Model: \"model\"\n",
      "_________________________________________________________________\n",
      "Layer (type)                 Output Shape              Param #   \n",
      "=================================================================\n",
      "input_1 (InputLayer)         [(None, 128, 128, 3)]     0         \n",
      "_________________________________________________________________\n",
      "block1_conv1 (Conv2D)        (None, 128, 128, 64)      1792      \n",
      "_________________________________________________________________\n",
      "block1_conv2 (Conv2D)        (None, 128, 128, 64)      36928     \n",
      "_________________________________________________________________\n",
      "block1_pool (MaxPooling2D)   (None, 64, 64, 64)        0         \n",
      "_________________________________________________________________\n",
      "block2_conv1 (Conv2D)        (None, 64, 64, 128)       73856     \n",
      "_________________________________________________________________\n",
      "block2_conv2 (Conv2D)        (None, 64, 64, 128)       147584    \n",
      "_________________________________________________________________\n",
      "block2_pool (MaxPooling2D)   (None, 32, 32, 128)       0         \n",
      "_________________________________________________________________\n",
      "block3_conv1 (Conv2D)        (None, 32, 32, 256)       295168    \n",
      "_________________________________________________________________\n",
      "block3_conv2 (Conv2D)        (None, 32, 32, 256)       590080    \n",
      "_________________________________________________________________\n",
      "block3_conv3 (Conv2D)        (None, 32, 32, 256)       590080    \n",
      "_________________________________________________________________\n",
      "block3_pool (MaxPooling2D)   (None, 16, 16, 256)       0         \n",
      "_________________________________________________________________\n",
      "block4_conv1 (Conv2D)        (None, 16, 16, 512)       1180160   \n",
      "_________________________________________________________________\n",
      "block4_conv2 (Conv2D)        (None, 16, 16, 512)       2359808   \n",
      "_________________________________________________________________\n",
      "block4_conv3 (Conv2D)        (None, 16, 16, 512)       2359808   \n",
      "_________________________________________________________________\n",
      "block4_pool (MaxPooling2D)   (None, 8, 8, 512)         0         \n",
      "_________________________________________________________________\n",
      "block5_conv1 (Conv2D)        (None, 8, 8, 512)         2359808   \n",
      "_________________________________________________________________\n",
      "block5_conv2 (Conv2D)        (None, 8, 8, 512)         2359808   \n",
      "_________________________________________________________________\n",
      "block5_conv3 (Conv2D)        (None, 8, 8, 512)         2359808   \n",
      "_________________________________________________________________\n",
      "block5_pool (MaxPooling2D)   (None, 4, 4, 512)         0         \n",
      "_________________________________________________________________\n",
      "flatten (Flatten)            (None, 8192)              0         \n",
      "_________________________________________________________________\n",
      "dense (Dense)                (None, 2)                 16386     \n",
      "=================================================================\n",
      "Total params: 14,731,074\n",
      "Trainable params: 16,386\n",
      "Non-trainable params: 14,714,688\n",
      "_________________________________________________________________\n"
     ]
    }
   ],
   "source": [
    "from tensorflow.keras.applications import VGG16\n",
    "\n",
    "#VGG16 Modelimizin giriş katmanını oluşturuyoruz.\n",
    "input_layer=layers.Input(shape=(IMG_WIDTH, IMG_HEIGHT, 3))\n",
    "\n",
    "#VGG16 Modelimizi ImageNet ağırlıkları ile yüklüyoruz.\n",
    "model_VGG16=VGG16(weights='imagenet', input_tensor=input_layer, include_top=False)\n",
    "\n",
    "#VGG16 Modelinin çıkış katmanını alıyoruz.\n",
    "last_layer=model_VGG16.output \n",
    "\n",
    "#2 sınıftan oluşan özel çıkış katmanımızı oluşturuyoruz.\n",
    "flatten=layers.Flatten()(last_layer) \n",
    "output_layer=layers.Dense(2, activation='softmax')(flatten)\n",
    "\n",
    "model=models.Model(inputs=input_layer, outputs=output_layer)\n",
    "#Yeni bir model oluşturup giriş ve çıkış katmanlarını kendi katmanlarımız ile değiştiriyoruz.\n",
    "\n",
    "#Çıkış katmanı haricindeki tüm katmanların eğitimini kapatıyoruz.\n",
    "for layer in model.layers[:-1]:\n",
    "    layer.trainable=False\n",
    "\n",
    "model_EfficientNetB7 = None\n",
    "model.summary()"
   ]
  },
  {
   "cell_type": "code",
   "execution_count": 6,
   "metadata": {},
   "outputs": [
    {
     "name": "stdout",
     "output_type": "stream",
     "text": [
      "Epoch 1/40\n",
      "5436/5436 [==============================] - 76s 12ms/step - loss: 0.2090 - accuracy: 0.9194 - val_loss: 0.1709 - val_accuracy: 0.9431\n",
      "\n",
      "Epoch 00001: val_accuracy improved from -inf to 0.94310, saving model to models\\LungIdentifierModelVGG16Testing2.h5\n",
      "Epoch 2/40\n",
      "5436/5436 [==============================] - 53s 10ms/step - loss: 0.1599 - accuracy: 0.9417 - val_loss: 0.1884 - val_accuracy: 0.9451\n",
      "\n",
      "Epoch 00002: val_accuracy improved from 0.94310 to 0.94506, saving model to models\\LungIdentifierModelVGG16Testing2.h5\n",
      "Epoch 3/40\n",
      "5434/5436 [============================>.] - ETA: 0s - loss: 0.1480 - accuracy: 0.9483"
     ]
    }
   ],
   "source": [
    "#Modelimizi derleyip checkpointlerini belirliyoruz.\n",
    "model.compile(optimizer='adam', loss='categorical_crossentropy', metrics=['accuracy'])\n",
    "\n",
    "earlystopper = EarlyStopping(patience=25, verbose=1)\n",
    "learning_rate_reduction = ReduceLROnPlateau(monitor='val_accuracy', patience=3, verbose=1, factor=0.5, min_lr=0.00001)\n",
    "checkpoint = ModelCheckpoint(modelName, monitor='val_accuracy', verbose=1, save_best_only=True, mode='max')\n",
    "callbacks_list = [checkpoint, learning_rate_reduction, earlystopper]\n",
    "\n",
    "#Eğitimi başlatıyoruz.\n",
    "history = model.fit(X_train/255.0, Y_train, validation_data=(X_test/255.0, Y_test), batch_size=6, epochs=40, callbacks=callbacks_list, shuffle=True)\n",
    "\n",
    "#Eğitim sonuçlarını grafiğe döküyoruz.\n",
    "acc = history.history['accuracy']\n",
    "val_acc = history.history['val_accuracy']\n",
    "loss = history.history['loss']\n",
    "val_loss = history.history['val_loss']\n",
    "\n",
    "epochs = range(1, len(acc) + 1)\n",
    "\n",
    "plt.plot(epochs, loss, 'bo', label='Training loss')\n",
    "plt.plot(epochs, val_loss, 'b', label='Validation loss')\n",
    "plt.title('Training ve Validation loss oranı')\n",
    "plt.legend()\n",
    "plt.figure()\n",
    "\n",
    "plt.plot(epochs, acc, 'bo', label='Training Accuracy')\n",
    "plt.plot(epochs, val_acc, 'b', label='Validation Accuracy')\n",
    "plt.title('Training ve Validation Accuracy oranı')\n",
    "plt.legend()\n",
    "plt.figure()"
   ]
  },
  {
   "cell_type": "code",
   "execution_count": null,
   "metadata": {},
   "outputs": [
    {
     "name": "stdout",
     "output_type": "stream",
     "text": [
      "(8186,)\n"
     ]
    }
   ],
   "source": [
    "#Test veri sonuçlarını pandas ile dataframe haline getiriyoruz.\n",
    "df_test = pd.DataFrame()\n",
    "Y_test_normal = np.argmax(Y_test, axis=-1)\n",
    "\n",
    "print(Y_test_normal.shape)\n",
    "\n",
    "df_test['type'] = Y_test_normal\n",
    "df_test = df_test.reset_index(drop=True)\n",
    "df_test.head(10)"
   ]
  },
  {
   "cell_type": "code",
   "execution_count": null,
   "metadata": {},
   "outputs": [
    {
     "name": "stdout",
     "output_type": "stream",
     "text": [
      "Doğruluk oranı %96.01759100903982\n"
     ]
    },
    {
     "data": {
      "text/html": [
       "<div>\n",
       "<style scoped>\n",
       "    .dataframe tbody tr th:only-of-type {\n",
       "        vertical-align: middle;\n",
       "    }\n",
       "\n",
       "    .dataframe tbody tr th {\n",
       "        vertical-align: top;\n",
       "    }\n",
       "\n",
       "    .dataframe thead th {\n",
       "        text-align: right;\n",
       "    }\n",
       "</style>\n",
       "<table border=\"1\" class=\"dataframe\">\n",
       "  <thead>\n",
       "    <tr style=\"text-align: right;\">\n",
       "      <th></th>\n",
       "      <th>type</th>\n",
       "      <th>preds</th>\n",
       "    </tr>\n",
       "  </thead>\n",
       "  <tbody>\n",
       "    <tr>\n",
       "      <th>0</th>\n",
       "      <td>0</td>\n",
       "      <td>0</td>\n",
       "    </tr>\n",
       "    <tr>\n",
       "      <th>1</th>\n",
       "      <td>0</td>\n",
       "      <td>0</td>\n",
       "    </tr>\n",
       "    <tr>\n",
       "      <th>2</th>\n",
       "      <td>0</td>\n",
       "      <td>0</td>\n",
       "    </tr>\n",
       "    <tr>\n",
       "      <th>3</th>\n",
       "      <td>1</td>\n",
       "      <td>1</td>\n",
       "    </tr>\n",
       "    <tr>\n",
       "      <th>4</th>\n",
       "      <td>0</td>\n",
       "      <td>0</td>\n",
       "    </tr>\n",
       "    <tr>\n",
       "      <th>5</th>\n",
       "      <td>0</td>\n",
       "      <td>0</td>\n",
       "    </tr>\n",
       "    <tr>\n",
       "      <th>6</th>\n",
       "      <td>1</td>\n",
       "      <td>1</td>\n",
       "    </tr>\n",
       "    <tr>\n",
       "      <th>7</th>\n",
       "      <td>1</td>\n",
       "      <td>1</td>\n",
       "    </tr>\n",
       "    <tr>\n",
       "      <th>8</th>\n",
       "      <td>1</td>\n",
       "      <td>1</td>\n",
       "    </tr>\n",
       "    <tr>\n",
       "      <th>9</th>\n",
       "      <td>1</td>\n",
       "      <td>1</td>\n",
       "    </tr>\n",
       "  </tbody>\n",
       "</table>\n",
       "</div>"
      ],
      "text/plain": [
       "   type  preds\n",
       "0     0      0\n",
       "1     0      0\n",
       "2     0      0\n",
       "3     1      1\n",
       "4     0      0\n",
       "5     0      0\n",
       "6     1      1\n",
       "7     1      1\n",
       "8     1      1\n",
       "9     1      1"
      ]
     },
     "execution_count": 6,
     "metadata": {},
     "output_type": "execute_result"
    }
   ],
   "source": [
    "#En iyi modeli yükleyerek tahmin işlemini gerçekleştiriyoruz.\n",
    "model = load_model(modelName)\n",
    "preds = np.argmax(model.predict(X_test/255.0), axis=-1)\n",
    "\n",
    "#Tahmin sonuçlarını gerçek sonuçlar ile karşılaştırıyoruz.\n",
    "df_test['preds'] = np.round(preds)\n",
    "df_test['preds'] = df_test['preds'].apply(np.int)\n",
    "\n",
    "wrongs_df = df_test.loc[df_test['type'] != df_test['preds']]\n",
    "\n",
    "print(f\"Doğruluk oranı %{100 - (len(wrongs_df) * 100 / len(df_test))}\")\n",
    "\n",
    "df_test.head(10)"
   ]
  },
  {
   "cell_type": "code",
   "execution_count": null,
   "metadata": {},
   "outputs": [
    {
     "name": "stdout",
     "output_type": "stream",
     "text": [
      "Accuracy :  0.9601759100903983\n",
      "Sensitivity :  0.9737903225806451\n",
      "Specificity :  0.932967032967033\n"
     ]
    },
    {
     "data": {
      "image/png": "[encoded data removed]",
      "text/plain": [
       "<Figure size 432x288 with 2 Axes>"
      ]
     },
     "metadata": {
      "needs_background": "light"
     },
     "output_type": "display_data"
    }
   ],
   "source": [
    "from sklearn.metrics import confusion_matrix\n",
    "import seaborn as sn\n",
    "\n",
    "#Modelimizin metriklerini hesaplıyoruz.\n",
    "cm1 = confusion_matrix(df_test[['type']], df_test['preds'])\n",
    "sn.heatmap(cm1, annot=True, annot_kws={\"size\": 16}, fmt=\"d\")\n",
    "\n",
    "total1=sum(sum(cm1))\n",
    "\n",
    "accuracy1=(cm1[0,0]+cm1[1,1])/total1\n",
    "print ('Accuracy : ', accuracy1)\n",
    "\n",
    "sensitivity1 = cm1[0,0]/(cm1[0,0]+cm1[0,1])\n",
    "print('Sensitivity : ', sensitivity1 )\n",
    "\n",
    "specificity1 = cm1[1,1]/(cm1[1,0]+cm1[1,1])\n",
    "print('Specificity : ', specificity1)"
   ]
  }
 ],
 "metadata": {
  "kernelspec": {
   "display_name": "Python 3.8.6 64-bit",
   "language": "python",
   "name": "python3"
  },
  "language_info": {
   "codemirror_mode": {
    "name": "ipython",
    "version": 3
   },
   "file_extension": ".py",
   "mimetype": "text/x-python",
   "name": "python",
   "nbconvert_exporter": "python",
   "pygments_lexer": "ipython3",
   "version": "3.8.6"
  },
  "orig_nbformat": 4,
  "vscode": {
   "interpreter": {
    "hash": "e8ca9f36e1327da540f9f8b65b3b6fee14f84eb0ea34b0227d72885446c195df"
   }
  }
 },
 "nbformat": 4,
 "nbformat_minor": 2
}
