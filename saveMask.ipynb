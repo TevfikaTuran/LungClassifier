{
 "cells": [
  {
   "cell_type": "code",
   "execution_count": 65,
   "metadata": {},
   "outputs": [],
   "source": [
    "import os\n",
    "import cv2\n",
    "import random\n",
    "import numpy as np\n",
    "\n",
    "from metods import fillHoles, readImages, removeSmallObjects\n",
    "from tensorflow.keras.optimizers import *\n",
    "from tensorflow.keras.models import *\n",
    "from tensorflow.keras.layers import *\n",
    "from matplotlib import pyplot as plt, image\n",
    "import skimage\n",
    "import numpy as np\n",
    "\n",
    "import warnings\n",
    "warnings.filterwarnings('ignore')\n",
    "\n",
    "import tensorflow as tf\n",
    "physical_devices = tf.config.list_physical_devices('GPU') \n",
    "tf.config.experimental.set_memory_growth(physical_devices[0], True)"
   ]
  },
  {
   "cell_type": "code",
   "execution_count": 67,
   "metadata": {},
   "outputs": [],
   "source": [
    "def SaveGeneratedMask(Image_collection_path, save_path, modelName, IMG_HEIGHT = 128, IMG_WIDTH = 128):\n",
    "    \n",
    "    test_images = os.listdir(Image_collection_path)\n",
    "    x = np.zeros((len(test_images), IMG_HEIGHT, IMG_WIDTH))\n",
    "    \n",
    "    for i, img_id in enumerate(test_images):\n",
    "        img_collection = Image_collection_path  + img_id\n",
    "        img = readImages(img_collection,  IMG_HEIGHT = 128, IMG_WIDTH = 128, is_gray=0)\n",
    "        x[i] = img\n",
    "    \n",
    "    model = load_model(modelName)\n",
    "    pred_img = model.predict(x/255.)*255.0\n",
    "    \n",
    "    for j, img_id in enumerate(test_images):   \n",
    "        new_img_path =save_path + 'mask_' + img_id\n",
    "        \n",
    "        img = fillHoles(pred_img[j])\n",
    "        img = removeSmallObjects(img, min_area = 200)\n",
    "        \n",
    "        image.imsave(new_img_path, img, cmap= plt.cm.gray)"
   ]
  },
  {
   "cell_type": "code",
   "execution_count": 91,
   "metadata": {},
   "outputs": [],
   "source": [
    "def saveSegmentedLung(maskPath, LungPath, savePath, IMG_HEIGHT = 128, IMG_WIDTH = 128):\n",
    "    mask = readImages(maskPath,  IMG_HEIGHT = IMG_HEIGHT, IMG_WIDTH = IMG_WIDTH, is_gray=0)\n",
    "    img = readImages(LungPath,  IMG_HEIGHT = IMG_HEIGHT, IMG_WIDTH = IMG_WIDTH, is_gray=0)\n",
    "    print(img.shape, mask.shape)\n",
    "    segmented_img = cv2.bitwise_and(img.astype(np.uint8), img.astype(np.uint8), mask=mask.astype(np.uint8), cmap=plt.cm.bone)\n",
    "    image.imsave(savePath, segmented_img, cmap= plt.cm.gray)"
   ]
  },
  {
   "cell_type": "code",
   "execution_count": 44,
   "metadata": {},
   "outputs": [],
   "source": [
    "img_path = 'C:\\\\Users\\\\ugur_\\\\Python Projects\\\\LungClassifier\\\\NIH Data\\\\Pneumothorax\\\\'\n",
    "save_path ='C:\\\\Users\\\\ugur_\\\\Python Projects\\\\LungClassifier\\\\NIH Data\\\\Pneumothorax Mask\\\\'\n",
    "\n",
    "SaveGeneratedMask(Image_collection_path=img_path, save_path= save_path, modelName='model.h5', IMG_HEIGHT = 128, IMG_WIDTH = 128)"
   ]
  },
  {
   "cell_type": "code",
   "execution_count": 94,
   "metadata": {},
   "outputs": [
    {
     "name": "stdout",
     "output_type": "stream",
     "text": [
      "C:\\Users\\ugur_\\Python Projects\\LungClassifier\\NIH Data\\Pneumothorax Mask\\mask_00000013_012.png\n",
      "C:\\Users\\ugur_\\Python Projects\\LungClassifier\\NIH Data\\Pneumothorax\\00000013_012.png\n",
      "(128, 128) (128, 128)\n"
     ]
    },
    {
     "ename": "error",
     "evalue": "OpenCV(4.5.5) :-1: error: (-5:Bad argument) in function 'bitwise_and'\n> Overload resolution failed:\n>  - 'cmap' is an invalid keyword argument for bitwise_and()\n>  - 'cmap' is an invalid keyword argument for bitwise_and()\n",
     "output_type": "error",
     "traceback": [
      "\u001b[1;31m---------------------------------------------------------------------------\u001b[0m",
      "\u001b[1;31merror\u001b[0m                                     Traceback (most recent call last)",
      "\u001b[1;32mc:\\Users\\ugur_\\Python Projects\\LungClassifier\\saveMask.ipynb Cell 5'\u001b[0m in \u001b[0;36m<cell line: 5>\u001b[1;34m()\u001b[0m\n\u001b[0;32m      <a href='vscode-notebook-cell:/c%3A/Users/ugur_/Python%20Projects/LungClassifier/saveMask.ipynb#ch0000005?line=5'>6</a>\u001b[0m mask_file \u001b[39m=\u001b[39m maskPath \u001b[39m+\u001b[39m \u001b[39m\"\u001b[39m\u001b[39mmask_\u001b[39m\u001b[39m\"\u001b[39m \u001b[39m+\u001b[39m img_id\n\u001b[0;32m      <a href='vscode-notebook-cell:/c%3A/Users/ugur_/Python%20Projects/LungClassifier/saveMask.ipynb#ch0000005?line=6'>7</a>\u001b[0m img_file \u001b[39m=\u001b[39m imgPath \u001b[39m+\u001b[39m img_id\n\u001b[1;32m----> <a href='vscode-notebook-cell:/c%3A/Users/ugur_/Python%20Projects/LungClassifier/saveMask.ipynb#ch0000005?line=7'>8</a>\u001b[0m saveSegmentedLung(mask_file, img_file, savePath, IMG_HEIGHT \u001b[39m=\u001b[39;49m \u001b[39m128\u001b[39;49m, IMG_WIDTH \u001b[39m=\u001b[39;49m \u001b[39m128\u001b[39;49m)\n",
      "\u001b[1;32mc:\\Users\\ugur_\\Python Projects\\LungClassifier\\saveMask.ipynb Cell 3'\u001b[0m in \u001b[0;36msaveSegmentedLung\u001b[1;34m(maskPath, LungPath, savePath, IMG_HEIGHT, IMG_WIDTH)\u001b[0m\n\u001b[0;32m      <a href='vscode-notebook-cell:/c%3A/Users/ugur_/Python%20Projects/LungClassifier/saveMask.ipynb#ch0000004?line=2'>3</a>\u001b[0m img \u001b[39m=\u001b[39m readImages(LungPath,  IMG_HEIGHT \u001b[39m=\u001b[39m IMG_HEIGHT, IMG_WIDTH \u001b[39m=\u001b[39m IMG_WIDTH, is_gray\u001b[39m=\u001b[39m\u001b[39m0\u001b[39m)\n\u001b[0;32m      <a href='vscode-notebook-cell:/c%3A/Users/ugur_/Python%20Projects/LungClassifier/saveMask.ipynb#ch0000004?line=3'>4</a>\u001b[0m \u001b[39mprint\u001b[39m(img\u001b[39m.\u001b[39mshape, mask\u001b[39m.\u001b[39mshape)\n\u001b[1;32m----> <a href='vscode-notebook-cell:/c%3A/Users/ugur_/Python%20Projects/LungClassifier/saveMask.ipynb#ch0000004?line=4'>5</a>\u001b[0m segmented_img \u001b[39m=\u001b[39m cv2\u001b[39m.\u001b[39;49mbitwise_and(img\u001b[39m.\u001b[39;49mastype(np\u001b[39m.\u001b[39;49muint8), img\u001b[39m.\u001b[39;49mastype(np\u001b[39m.\u001b[39;49muint8), mask\u001b[39m=\u001b[39;49mmask\u001b[39m.\u001b[39;49mastype(np\u001b[39m.\u001b[39;49muint8), cmap\u001b[39m=\u001b[39;49mplt\u001b[39m.\u001b[39;49mcm\u001b[39m.\u001b[39;49mbone)\n\u001b[0;32m      <a href='vscode-notebook-cell:/c%3A/Users/ugur_/Python%20Projects/LungClassifier/saveMask.ipynb#ch0000004?line=5'>6</a>\u001b[0m image\u001b[39m.\u001b[39mimsave(savePath, segmented_img, cmap\u001b[39m=\u001b[39m plt\u001b[39m.\u001b[39mcm\u001b[39m.\u001b[39mgray)\n",
      "\u001b[1;31merror\u001b[0m: OpenCV(4.5.5) :-1: error: (-5:Bad argument) in function 'bitwise_and'\n> Overload resolution failed:\n>  - 'cmap' is an invalid keyword argument for bitwise_and()\n>  - 'cmap' is an invalid keyword argument for bitwise_and()\n"
     ]
    }
   ],
   "source": [
    "imgPath = 'C:\\\\Users\\\\ugur_\\\\Python Projects\\\\LungClassifier\\\\NIH Data\\\\Pneumothorax\\\\'\n",
    "maskPath = 'C:\\\\Users\\\\ugur_\\\\Python Projects\\\\LungClassifier\\\\NIH Data\\\\Pneumothorax Mask\\\\'\n",
    "savePath = 'C:\\\\Users\\\\ugur_\\\\Python Projects\\\\LungClassifier\\\\NIH Data\\\\Pneumothorax Segmented\\\\'\n",
    "\n",
    "for img_id in os.listdir(imgPath):\n",
    "    mask_file = maskPath + \"mask_\" + img_id\n",
    "    img_file = imgPath + img_id\n",
    "    saveSegmentedLung(mask_file, img_file, savePath, IMG_HEIGHT = 128, IMG_WIDTH = 128)\n"
   ]
  }
 ],
 "metadata": {
  "kernelspec": {
   "display_name": "Python 3.8.6 64-bit",
   "language": "python",
   "name": "python3"
  },
  "language_info": {
   "codemirror_mode": {
    "name": "ipython",
    "version": 3
   },
   "file_extension": ".py",
   "mimetype": "text/x-python",
   "name": "python",
   "nbconvert_exporter": "python",
   "pygments_lexer": "ipython3",
   "version": "3.8.6"
  },
  "orig_nbformat": 4,
  "vscode": {
   "interpreter": {
    "hash": "e8ca9f36e1327da540f9f8b65b3b6fee14f84eb0ea34b0227d72885446c195df"
   }
  }
 },
 "nbformat": 4,
 "nbformat_minor": 2
}
