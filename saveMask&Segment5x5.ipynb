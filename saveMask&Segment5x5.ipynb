{
 "cells": [
  {
   "cell_type": "code",
   "execution_count": 1,
   "metadata": {},
   "outputs": [],
   "source": [
    "#Kütüphanelerimizi yüklüyoruz\n",
    "import os\n",
    "import cv2\n",
    "import numpy as np\n",
    "\n",
    "from metods import fillHoles, readImages, removeSmallObjects\n",
    "from tensorflow.keras.optimizers import *\n",
    "from tensorflow.keras.models import *\n",
    "from tensorflow.keras.layers import *\n",
    "from matplotlib import pyplot as plt, image\n",
    "from PIL import Image\n",
    "import numpy as np\n",
    "\n",
    "\n",
    "import warnings\n",
    "warnings.filterwarnings('ignore')\n",
    "\n",
    "import tensorflow as tf\n",
    "physical_devices = tf.config.list_physical_devices('GPU') \n",
    "tf.config.experimental.set_memory_growth(physical_devices[0], True)"
   ]
  },
  {
   "cell_type": "code",
   "execution_count": 6,
   "metadata": {},
   "outputs": [],
   "source": [
    "def SaveGeneratedMask(Image_collection_path, save_path, modelName, IMG_HEIGHT = 128, IMG_WIDTH = 128):\n",
    "    test_images = os.listdir(Image_collection_path)\n",
    "    x = np.zeros((len(test_images), IMG_HEIGHT, IMG_WIDTH))\n",
    "    \n",
    "    for i, img_id in enumerate(test_images):\n",
    "        img_collection = Image_collection_path  + img_id\n",
    "        img = readImages(img_collection,  IMG_HEIGHT = 128, IMG_WIDTH = 128, is_gray=0)\n",
    "        x[i] = img\n",
    "    \n",
    "    model = load_model(modelName)\n",
    "    pred_img = model.predict(x/255.)*255.0\n",
    "    \n",
    "    for j, img_id in enumerate(test_images):   \n",
    "        new_img_path =save_path + 'mask_' + img_id\n",
    "        \n",
    "        #Oluşturulan maskelerimize görüntü işleme adımlarını uyguluyoruz\n",
    "        img = fillHoles(pred_img[j])\n",
    "        img = removeSmallObjects(img, min_area = 200)\n",
    "        \n",
    "        try:\n",
    "            if img == None:\n",
    "                continue\n",
    "        except:\n",
    "            pass\n",
    "        \n",
    "        image.imsave(new_img_path, img, cmap=plt.cm.gray)\n",
    "        print(f\"[{j + 1}/{len(test_images)}] Maske oluşturuldu.\")"
   ]
  },
  {
   "cell_type": "code",
   "execution_count": 3,
   "metadata": {},
   "outputs": [],
   "source": [
    "def saveSegmentedLung(maskPath, LungPath, savePath, IMG_HEIGHT = 128, IMG_WIDTH = 128):\n",
    "    mask = readImages(maskPath,  IMG_HEIGHT = IMG_HEIGHT, IMG_WIDTH = IMG_WIDTH, is_gray=0)\n",
    "    _ , mask = cv2.threshold(mask, 120, 255, cv2.THRESH_BINARY) #binary img\n",
    "    img = readImages(LungPath,  IMG_HEIGHT = IMG_HEIGHT, IMG_WIDTH = IMG_WIDTH, is_gray=0)\n",
    "    segmented_img = cv2.bitwise_and(img, img, mask=mask)\n",
    "    image.imsave(savePath, segmented_img, cmap=plt.cm.bone)"
   ]
  },
  {
   "cell_type": "code",
   "execution_count": 4,
   "metadata": {},
   "outputs": [],
   "source": [
    "#Dosya yollarını tanımlıyoruz.\n",
    "healty_path = \"C:\\\\Users\\\\ugur_\\\\Python Projects\\\\LungClassifier\\\\NIH Data\\\\Healty\\\\\"\n",
    "healty_mask_path = \"C:\\\\Users\\\\ugur_\\\\Python Projects\\\\LungClassifier\\\\NIH Data\\\\Healty Mask\\\\\"\n",
    "healty_segmented_path = \"C:\\\\Users\\\\ugur_\\\\Python Projects\\\\LungClassifier\\\\NIH Data\\\\Healty Segmented\\\\\"\n",
    "\n",
    "pneu_path = \"C:\\\\Users\\\\ugur_\\\\Python Projects\\\\LungClassifier\\\\NIH Data\\\\Pneumothorax\\\\\"\n",
    "pneu_mask_path = \"C:\\\\Users\\\\ugur_\\\\Python Projects\\\\LungClassifier\\\\NIH Data\\\\Pneumothorax Mask\\\\\"\n",
    "pneu_segmented_path = \"C:\\\\Users\\\\ugur_\\\\Python Projects\\\\LungClassifier\\\\NIH Data\\\\Pneumothorax Segmented\\\\\""
   ]
  },
  {
   "cell_type": "code",
   "execution_count": null,
   "metadata": {},
   "outputs": [],
   "source": [
    "#Normal X-ray görüntülerinin maskelerini oluşturuyoruz.\n",
    "SaveGeneratedMask(Image_collection_path=healty_path, save_path=healty_mask_path, modelName='model.h5', IMG_HEIGHT=128, IMG_WIDTH=128)"
   ]
  },
  {
   "cell_type": "code",
   "execution_count": null,
   "metadata": {},
   "outputs": [],
   "source": [
    "#Pnömotoraks X-ray görüntülerinin maskelerini oluşturuyoruz.\n",
    "SaveGeneratedMask(Image_collection_path=pneu_path, save_path=pneu_mask_path, modelName='model.h5', IMG_HEIGHT=128, IMG_WIDTH=128)"
   ]
  },
  {
   "cell_type": "code",
   "execution_count": 18,
   "metadata": {},
   "outputs": [],
   "source": [
    "#Sağlıklı göğüs X-ray'lerinden ciğer bölümünü maskemizi kullanarak segmentliyoruz.\n",
    "for img_id in os.listdir(healty_mask_path):\n",
    "    mask_file = healty_mask_path + img_id\n",
    "    img_file = healty_path + img_id.replace(\"mask_\", \"\")\n",
    "    segmented_file = healty_segmented_path + \"segment_\" + img_id\n",
    "    try:\n",
    "        saveSegmentedLung(mask_file, img_file, segmented_file, IMG_HEIGHT = 128, IMG_WIDTH = 128)\n",
    "    except Exception as ex:\n",
    "        print(\"HATA: \", ex)\n",
    "        continue\n"
   ]
  },
  {
   "cell_type": "code",
   "execution_count": 19,
   "metadata": {},
   "outputs": [],
   "source": [
    "#Pnömotoraks göğüs X-ray'lerinden ciğer bölümünü maskemizi kullanarak segmentliyoruz.\n",
    "for img_id in os.listdir(pneu_mask_path):\n",
    "    mask_file = pneu_mask_path + img_id\n",
    "    img_file = pneu_path + img_id.replace(\"mask_\", \"\")\n",
    "    segmented_file = pneu_segmented_path + \"segment_\" + img_id\n",
    "    try:\n",
    "        saveSegmentedLung(mask_file, img_file, segmented_file, IMG_HEIGHT = 128, IMG_WIDTH = 128)\n",
    "    except Exception as ex:\n",
    "        print(\"HATA: \", ex)\n",
    "        continue"
   ]
  },
  {
   "cell_type": "code",
   "execution_count": 20,
   "metadata": {},
   "outputs": [],
   "source": [
    "#Kayıt sonrası oluşan siyah görselleri kontrol edip varsa siliyoruz.\n",
    "for img_id in os.listdir(healty_mask_path):\n",
    "    img_file = healty_mask_path + img_id\n",
    "    img = Image.open(img_file)\n",
    "    test_img = img.convert(\"L\").getextrema()\n",
    "    if test_img == (0, 0):\n",
    "        print(\"Black image found!\")\n",
    "        print(img_id)\n",
    "        os.remove(img_file)\n",
    "        print(\"Deleted!\")\n",
    "        \n",
    "for img_id in os.listdir(pneu_mask_path):\n",
    "    img_file = pneu_mask_path + img_id\n",
    "    img = Image.open(img_file)\n",
    "    test_img = img.convert(\"L\").getextrema()\n",
    "    if test_img == (0, 0):\n",
    "        print(\"Black image found!\")\n",
    "        print(img_id)\n",
    "        os.remove(img_file)\n",
    "        print(\"Deleted!\")"
   ]
  }
 ],
 "metadata": {
  "kernelspec": {
   "display_name": "Python 3.8.6 64-bit",
   "language": "python",
   "name": "python3"
  },
  "language_info": {
   "codemirror_mode": {
    "name": "ipython",
    "version": 3
   },
   "file_extension": ".py",
   "mimetype": "text/x-python",
   "name": "python",
   "nbconvert_exporter": "python",
   "pygments_lexer": "ipython3",
   "version": "3.8.6"
  },
  "orig_nbformat": 4,
  "vscode": {
   "interpreter": {
    "hash": "e8ca9f36e1327da540f9f8b65b3b6fee14f84eb0ea34b0227d72885446c195df"
   }
  }
 },
 "nbformat": 4,
 "nbformat_minor": 2
}
